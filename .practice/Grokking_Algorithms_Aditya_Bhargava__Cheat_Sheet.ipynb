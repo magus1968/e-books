{
 "cells": [
  {
   "cell_type": "markdown",
   "id": "8a727447-99c4-46e4-893f-4667cb1ac622",
   "metadata": {},
   "source": [
    "## Грокаем алгоритмы. Бхаргава Адитья.\n",
    "Ссылка на текст с кодом [здесь](https://livebook.manning.com/book/grokking-algorithms-second-edition)"
   ]
  },
  {
   "cell_type": "code",
   "execution_count": 6,
   "id": "9360df0d-098b-4ef3-8dcc-bfdfea4d3b42",
   "metadata": {},
   "outputs": [
    {
     "name": "stdout",
     "output_type": "stream",
     "text": [
      "Начал: 21/01/2025 | Сделал паузу:  | на странице:  | название раздела: \n"
     ]
    }
   ],
   "source": [
    "# Памятка на какой странице приостановился\n",
    "pause_data = input('Дата: ')\n",
    "pause_page = input('страница: ')\n",
    "paragraph = input('Название параграфа: ')\n",
    "print('Начал: 21/01/2025 |', 'Сделал паузу:', pause_data, '| на странице:', pause_page, '| название раздела:', paragraph)"
   ]
  },
  {
   "cell_type": "markdown",
   "id": "4c23feda-7d62-4c26-8b46-be5ade1631fd",
   "metadata": {
    "jp-MarkdownHeadingCollapsed": true
   },
   "source": [
    "### Глава 1. Бинарный поиск. О-большое"
   ]
  },
  {
   "cell_type": "code",
   "execution_count": 7,
   "id": "ce9c9f6c-5ff2-4297-aa8c-2a54ed48a878",
   "metadata": {},
   "outputs": [
    {
     "name": "stdout",
     "output_type": "stream",
     "text": [
      "1\n",
      "None\n"
     ]
    }
   ],
   "source": [
    "# Поиск числа в списке (стр. 36)\n",
    "\n",
    "def binary_seach(arr, item):\n",
    "    low = 0\n",
    "    high = len(arr) - 1\n",
    "    while low <= high:\n",
    "        mid = (low + high) // 2\n",
    "        guess = arr[mid]\n",
    "        if guess == item:\n",
    "            return mid\n",
    "        elif guess > item:\n",
    "            high = mid - 1\n",
    "        else:\n",
    "            low = mid + 1\n",
    "    return None\n",
    "\n",
    "my_list = [1, 3, 5, 7, 9]\n",
    "\n",
    "print(binary_seach(my_list, 3))\n",
    "print(binary_seach(my_list, -1))"
   ]
  },
  {
   "cell_type": "markdown",
   "id": "bdacdb5f-2942-4ea2-86be-3145bffff3e3",
   "metadata": {},
   "source": [
    "### Глава 2. Массивы. Списки. Сортировка выбором"
   ]
  },
  {
   "cell_type": "code",
   "execution_count": 1,
   "id": "6c1248e7-a446-4fae-bc08-3c89e65e74f0",
   "metadata": {},
   "outputs": [
    {
     "name": "stdout",
     "output_type": "stream",
     "text": [
      "3\n"
     ]
    }
   ],
   "source": [
    "# Функция поиска наименьшего значения (стр. 68)\n",
    "\n",
    "def findSmallest(arr):\n",
    "    smallest = arr[0]    # Для хранения наименьшего значения\n",
    "    smallest_index = 0   # Для хранения индекса наименьшего значения\n",
    "    for i in range(1, len(arr)):\n",
    "        if arr[i] < smallest:\n",
    "            smallest = arr[i]\n",
    "            smallest_index = i\n",
    "    return smallest_index\n",
    "print(findSmallest([5, 3, 6, 2, 10]))"
   ]
  },
  {
   "cell_type": "code",
   "execution_count": 7,
   "id": "6a3f9b41-c3b5-49c6-a37f-5d3c184a069c",
   "metadata": {},
   "outputs": [
    {
     "name": "stdout",
     "output_type": "stream",
     "text": [
      "3 len 5\n",
      "[2] [5, 3, 6, 10]\n",
      "1 len 4\n",
      "[2, 3] [5, 6, 10]\n",
      "0 len 3\n",
      "[2, 3, 5] [6, 10]\n",
      "0 len 2\n",
      "[2, 3, 5, 6] [10]\n",
      "0 len 1\n",
      "[2, 3, 5, 6, 10] []\n",
      "[2, 3, 5, 6, 10]\n"
     ]
    }
   ],
   "source": [
    "# Функция сортировки выбором -- на основе функции поиска наименьшего значения (стр. 69)\n",
    "\n",
    "def selectionSort(arr):\n",
    "    newArr = []\n",
    "    copiedArr = (arr)                     # копирует массив перед изменением\n",
    "    for i in range(len(copiedArr)):\n",
    "        smallest = findSmallest(copiedArr)    # Находит наименьший элемент в списке и добавляет его в новый список\n",
    "        print(smallest, 'len', len(copiedArr))\n",
    "        newArr.append(copiedArr.pop(smallest))\n",
    "        print(newArr, copiedArr)\n",
    "    return newArr\n",
    "\n",
    "print(selectionSort([5, 3, 6, 2, 10]))"
   ]
  },
  {
   "cell_type": "markdown",
   "id": "dd147ef4-d5bf-40e6-9301-6ac60ae0f6ba",
   "metadata": {},
   "source": [
    "### Глава 3. Рекурсия. Базовый и рекурсивный случаи. Стек вызовов\n",
    "Вычисление факториала"
   ]
  },
  {
   "cell_type": "code",
   "execution_count": null,
   "id": "40d1d58b-311d-4c29-9b91-1dae453190ab",
   "metadata": {},
   "outputs": [],
   "source": [
    "# Это бесконечный цикл (стр. 74)\n",
    "\n",
    "def countdown(i):\n",
    "  print(i)\n",
    "  countdown(i-1)\n",
    "        \n",
    "countdown(3)"
   ]
  },
  {
   "cell_type": "code",
   "execution_count": null,
   "id": "63f21244-c930-406a-9cd1-52f891e79a0d",
   "metadata": {},
   "outputs": [
    {
     "name": "stdout",
     "output_type": "stream",
     "text": [
      "3\n",
      "2\n",
      "1\n"
     ]
    }
   ],
   "source": [
    "# Каждая рекурсивная функция состоит из двух частей: базового случая и рекурсивного случая (стр. 75)\n",
    "\n",
    "def countdown(i):\n",
    "  print(i)\n",
    "  if i <= 1:   # Базовый случай -- функция себя не вызывает - чтобы предотвратить зацикливание \n",
    "    return\n",
    "  else:        # Рекурсивный случай -- функция вызывает сама себя\n",
    "    countdown(i-1)\n",
    "        \n",
    "countdown(3)"
   ]
  },
  {
   "cell_type": "code",
   "execution_count": null,
   "id": "c23da56f-05b3-4c2d-b8f3-3c60f788c8f8",
   "metadata": {},
   "outputs": [],
   "source": [
    "# Рекурсивная функция для вычисления факториала (стр. 80)\n",
    "\n",
    "def fact(x):\n",
    "  if x == 1:\n",
    "    return 1\n",
    "  else:\n",
    "    return x * fact(x-1)"
   ]
  },
  {
   "cell_type": "code",
   "execution_count": null,
   "id": "344ad694-8ddc-4cc0-ab34-9ffcb503797e",
   "metadata": {},
   "outputs": [
    {
     "data": {
      "text/plain": [
       "6"
      ]
     },
     "execution_count": 22,
     "metadata": {},
     "output_type": "execute_result"
    }
   ],
   "source": [
    "fact(3)"
   ]
  },
  {
   "cell_type": "markdown",
   "id": "f01ea6f9-f85b-4fdc-bae2-69c680d33f47",
   "metadata": {},
   "source": [
    "### Глава 4. Быстрая сортировка"
   ]
  },
  {
   "cell_type": "code",
   "execution_count": null,
   "id": "dc037dd4-6195-41c2-856e-c393682c79b8",
   "metadata": {},
   "outputs": [
    {
     "name": "stdout",
     "output_type": "stream",
     "text": [
      "10\n"
     ]
    }
   ],
   "source": [
    "# Суммирование с помощью цикла (стр. 92)\n",
    "\n",
    "def sum(arr):\n",
    "  total = 0\n",
    "  for x in arr:\n",
    "    total += x\n",
    "  return total\n",
    "\n",
    "print(sum([1, 2, 3, 4]))"
   ]
  },
  {
   "cell_type": "code",
   "execution_count": null,
   "id": "94993378-bb29-41ed-881b-eaaffdc25211",
   "metadata": {},
   "outputs": [
    {
     "name": "stdout",
     "output_type": "stream",
     "text": [
      "10\n"
     ]
    }
   ],
   "source": [
    "# Суммируем числа с помощью рекурсии (стр. 94, 341)\n",
    "\n",
    "def sum(list):\n",
    "  if list == []:\n",
    "    return 0\n",
    "  return list[0] + sum(list[1:])\n",
    "\n",
    "print(sum([1, 2, 3, 4]))"
   ]
  },
  {
   "cell_type": "code",
   "execution_count": null,
   "id": "94a98d1c-d13f-4c52-b11c-ba8b38e743ca",
   "metadata": {},
   "outputs": [
    {
     "name": "stdout",
     "output_type": "stream",
     "text": [
      "5\n"
     ]
    }
   ],
   "source": [
    "# Считаем количество элементов с помощью рекурсии (стр. 96, 341)\n",
    "\n",
    "def count(list):\n",
    "    if list == []:\n",
    "        return 0\n",
    "    return 1 + count(list[1:])\n",
    "\n",
    "print(count([1, 2, 3, 4, 5]))"
   ]
  },
  {
   "cell_type": "code",
   "execution_count": null,
   "id": "e7c409a0-701d-4451-a6f9-89875d4f1e68",
   "metadata": {},
   "outputs": [
    {
     "name": "stdout",
     "output_type": "stream",
     "text": [
      "7\n"
     ]
    }
   ],
   "source": [
    "# Находим наибольшее с помощью рекурсии (стр. 96, 342)\n",
    "\n",
    "def max(list):\n",
    "    if len(list) == 2:\n",
    "        return list[0] if list[0] > list[1] else list[1]\n",
    "    sub_max = max(list[1:])\n",
    "    return list[0] if list[0] > sub_max else sub_max\n",
    "\n",
    "print(max([1, 5, 3, 4, 2, 7, 6]))"
   ]
  },
  {
   "cell_type": "code",
   "execution_count": null,
   "id": "7a4d0455",
   "metadata": {},
   "outputs": [
    {
     "name": "stdout",
     "output_type": "stream",
     "text": [
      "[2, 3, 5, 10]\n"
     ]
    }
   ],
   "source": [
    "# Программный код быстрой сортировки (стр. 103)\n",
    "\n",
    "def quicksort(array):\n",
    "    if len(array) < 2:\n",
    "        return array                                # Базовый случай: массивы с 0 и 1 элементом уже \"отсортированы\"\n",
    "    else:\n",
    "        pivot = array[0]                            # Рекурсивный случай\n",
    "        less = [i for i in array[1:] if i <= pivot]    # Подмассив всех элементов меньших опорного\n",
    "        greater = [i for i in array[1:] if i > pivot]  # Подмассив всех элементов больших опорного\n",
    "    return quicksort(less) + [pivot] + quicksort(greater)\n",
    "print(quicksort([10, 5, 2, 3]))"
   ]
  },
  {
   "cell_type": "markdown",
   "id": "79552721",
   "metadata": {},
   "source": [
    "### Глава 5. Хеш-таблицы (словари)"
   ]
  },
  {
   "cell_type": "code",
   "execution_count": 11,
   "id": "7317788e",
   "metadata": {},
   "outputs": [
    {
     "name": "stdout",
     "output_type": "stream",
     "text": [
      "{'апельсин': 0.67, 'молоко': 1.49, 'авокадо': 1.49}\n"
     ]
    }
   ],
   "source": [
    "# (стр. 118)\n",
    "book = {}\n",
    "book['апельсин'] = 0.67\n",
    "book['молоко'] = 1.49\n",
    "book['авокадо'] = 1.49\n",
    "print(book)"
   ]
  },
  {
   "cell_type": "code",
   "execution_count": 12,
   "id": "7b62c12b",
   "metadata": {},
   "outputs": [
    {
     "name": "stdout",
     "output_type": "stream",
     "text": [
      "1.49\n"
     ]
    }
   ],
   "source": [
    "print(book['авокадо'])"
   ]
  },
  {
   "cell_type": "code",
   "execution_count": 13,
   "id": "e4b008b9",
   "metadata": {},
   "outputs": [],
   "source": [
    "phone_book = {}\n",
    "phone_book['Дженни'] = 8675309\n",
    "phone_book['служба спасения'] = 911"
   ]
  },
  {
   "cell_type": "code",
   "execution_count": 14,
   "id": "d4d9fed9",
   "metadata": {},
   "outputs": [
    {
     "name": "stdout",
     "output_type": "stream",
     "text": [
      "8675309\n"
     ]
    }
   ],
   "source": [
    "print(phone_book['Дженни'])"
   ]
  },
  {
   "cell_type": "code",
   "execution_count": 22,
   "id": "820c7aab",
   "metadata": {},
   "outputs": [],
   "source": [
    "# Проверка дубликатов на примере голосования (стр. 123)\n",
    "voted = {}\n",
    "def check_voter(name):\n",
    "    if name in voted:\n",
    "        print('Выгнать его!')\n",
    "    else:\n",
    "        voted[name] = True\n",
    "        print('Допустить к голосованию')"
   ]
  },
  {
   "cell_type": "code",
   "execution_count": 23,
   "id": "c81d178f",
   "metadata": {},
   "outputs": [
    {
     "name": "stdout",
     "output_type": "stream",
     "text": [
      "Допустить к голосованию\n",
      "{'Том': True}\n"
     ]
    }
   ],
   "source": [
    "check_voter('Том')\n",
    "print(voted)"
   ]
  },
  {
   "cell_type": "code",
   "execution_count": 24,
   "id": "2c3bc030",
   "metadata": {},
   "outputs": [
    {
     "name": "stdout",
     "output_type": "stream",
     "text": [
      "Допустить к голосованию\n",
      "{'Том': True, 'Майк': True}\n"
     ]
    }
   ],
   "source": [
    "check_voter('Майк')\n",
    "print(voted)"
   ]
  },
  {
   "cell_type": "code",
   "execution_count": 25,
   "id": "de890888",
   "metadata": {},
   "outputs": [
    {
     "name": "stdout",
     "output_type": "stream",
     "text": [
      "Выгнать его!\n",
      "{'Том': True, 'Майк': True}\n"
     ]
    }
   ],
   "source": [
    "check_voter('Майк')\n",
    "print(voted)"
   ]
  },
  {
   "cell_type": "markdown",
   "id": "2221564c",
   "metadata": {},
   "source": [
    "### Глава 6. Поиск в ширину"
   ]
  },
  {
   "cell_type": "code",
   "execution_count": 11,
   "id": "96f2e945",
   "metadata": {},
   "outputs": [
    {
     "name": "stdout",
     "output_type": "stream",
     "text": [
      "{'вы': ['Алиса', 'Боб', 'Клэр']}\n"
     ]
    }
   ],
   "source": [
    "# Реализация графа (стр. 151)\n",
    "graph = {}\n",
    "graph['вы'] = ['Алиса', 'Боб', 'Клэр']\n",
    "print(graph)\n",
    "\n",
    "graph['Боб'] = ['Анудж', 'Пегги']\n",
    "graph['Алиса'] = ['Пегги']\n",
    "graph['Клэр'] = ['Тоm', 'Джонни']\n",
    "\n",
    "graph['Анудж'] = []\n",
    "graph['Пегги'] = []\n",
    "graph['Тоm'] = []\n",
    "graph['Джонни'] = []\n"
   ]
  },
  {
   "cell_type": "code",
   "execution_count": 12,
   "id": "71924878",
   "metadata": {},
   "outputs": [],
   "source": [
    "# Создение двусторонней очереди (дека)\n",
    "from collections import deque\n",
    "search_queue = deque()        # Создание новой очереди\n",
    "search_queue += graph['вы']   # Все соседи добавляются в очередь поиска"
   ]
  },
  {
   "cell_type": "code",
   "execution_count": null,
   "id": "e99680e9",
   "metadata": {},
   "outputs": [],
   "source": [
    "while search_queue:                      # Пока очередь непуста ...\n",
    "    person = search_queue.popleft()      # ... из очереди извлекается первый человек\n",
    "    if person_is_seller(person):             # Проверяем, является ли этот человек продавцом манго\n",
    "        print(person + \" продавец манго!\")   # Да, это продавец манго\n",
    "        return True\n",
    "    else:\n",
    "        search_queue += graph[person]   # Нет, не является. Все друзья этого человека добавляются в очередь поиска\n",
    "return False                            # Если выполнение дошло до этой строки, значит в очереди нет продавца манго"
   ]
  },
  {
   "cell_type": "code",
   "execution_count": 13,
   "id": "ea3d276d",
   "metadata": {},
   "outputs": [],
   "source": [
    "# Определяем функцию, которая сообщает, является ли человек продавцом манго\n",
    "def person_is_seller(name):\n",
    "    return name[-1] == 'm' # Если имя заканчивается на букву 'm', то человек считается продавцом манго :)"
   ]
  },
  {
   "cell_type": "code",
   "execution_count": 14,
   "id": "8f8bb686",
   "metadata": {},
   "outputs": [
    {
     "name": "stdout",
     "output_type": "stream",
     "text": [
      "Тоm is a mango seller!\n"
     ]
    },
    {
     "data": {
      "text/plain": [
       "True"
      ]
     },
     "execution_count": 14,
     "metadata": {},
     "output_type": "execute_result"
    }
   ],
   "source": [
    "# Окончательная версия поиска в ширину (стр. 158)\n",
    "def search(name):\n",
    "    search_queue = deque()\n",
    "    search_queue += graph[name]   \n",
    "    searched = set()                           # Этот массив используется для отслеживания уже проверенных людей\n",
    "    while search_queue:\n",
    "        person = search_queue.popleft()  \n",
    "        if not person in searched:             # Человек проверяется только в том случае, если он не проверялся ранее\n",
    "            if person_is_seller(person):\n",
    "                print(person + \" is a mango seller!\")\n",
    "                return True\n",
    "            else:\n",
    "                search_queue += graph[person]   \n",
    "                searched.add(person)            # Человек помечается как уже проверенный\n",
    "    return False\n",
    "        \n",
    "search(\"вы\")"
   ]
  }
 ],
 "metadata": {
  "kernelspec": {
   "display_name": "base",
   "language": "python",
   "name": "python3"
  },
  "language_info": {
   "codemirror_mode": {
    "name": "ipython",
    "version": 3
   },
   "file_extension": ".py",
   "mimetype": "text/x-python",
   "name": "python",
   "nbconvert_exporter": "python",
   "pygments_lexer": "ipython3",
   "version": "3.12.7"
  }
 },
 "nbformat": 4,
 "nbformat_minor": 5
}
