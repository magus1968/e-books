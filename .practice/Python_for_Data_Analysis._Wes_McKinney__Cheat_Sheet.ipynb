{
 "cells": [
  {
   "cell_type": "markdown",
   "id": "5bc5d9f1-5af0-4ff6-9362-c167f608b3dc",
   "metadata": {},
   "source": [
    "*(стр. 56)* Строки – это последовательности символов Unicode и потому могут рассматриваться как любые другие последовательности, например списки или кортежи:"
   ]
  },
  {
   "cell_type": "code",
   "execution_count": 4,
   "id": "7ecc0a9e-97c3-440c-ad0a-fb6d6d2eb2d8",
   "metadata": {},
   "outputs": [
    {
     "data": {
      "text/plain": [
       "['p', 'y', 't', 'h', 'o', 'n']"
      ]
     },
     "execution_count": 4,
     "metadata": {},
     "output_type": "execute_result"
    }
   ],
   "source": [
    "s = \"python\"\n",
    "list(s)"
   ]
  },
  {
   "cell_type": "code",
   "execution_count": 3,
   "id": "86d00f4d-078a-48ac-a8eb-093c6daa2404",
   "metadata": {},
   "outputs": [
    {
     "data": {
      "text/plain": [
       "'pyt'"
      ]
     },
     "execution_count": 3,
     "metadata": {},
     "output_type": "execute_result"
    }
   ],
   "source": [
    "s[:3]"
   ]
  },
  {
   "cell_type": "code",
   "execution_count": 7,
   "id": "cf54db11-cef8-4437-97cb-675094726ad5",
   "metadata": {},
   "outputs": [
    {
     "data": {
      "text/plain": [
       "('p', 'y', 't', 'h', 'o', 'n')"
      ]
     },
     "execution_count": 7,
     "metadata": {},
     "output_type": "execute_result"
    }
   ],
   "source": [
    "tup = tuple(s)  # Преобразование в кортеж с помощью функции `tuple` (стр. 66)\n",
    "# tup = tuple('string')   # Можно сразу так\n",
    "tup"
   ]
  },
  {
   "cell_type": "code",
   "execution_count": 2,
   "id": "2d545b66-b8d9-4af0-8061-c5867a6d71e7",
   "metadata": {},
   "outputs": [
    {
     "data": {
      "text/plain": [
       "'s'"
      ]
     },
     "execution_count": 2,
     "metadata": {},
     "output_type": "execute_result"
    }
   ],
   "source": [
    "tup[0]"
   ]
  },
  {
   "cell_type": "markdown",
   "id": "84ef3816-c91c-4d37-81b6-78eaa6c0d444",
   "metadata": {},
   "source": [
    "*(стр. 49)* Знать тип объекта важно, и полезно также уметь писать функции, способные обрабатывать входные параметры различных типов. Проверить, что объект является экземпляром определенного типа, позволяет функция `isinstance`:"
   ]
  },
  {
   "cell_type": "code",
   "execution_count": 4,
   "id": "e1bd957d-13c5-465e-a84c-58d7513b4c31",
   "metadata": {},
   "outputs": [
    {
     "data": {
      "text/plain": [
       "True"
      ]
     },
     "execution_count": 4,
     "metadata": {},
     "output_type": "execute_result"
    }
   ],
   "source": [
    "a = 5\n",
    "isinstance(a, int)"
   ]
  },
  {
   "cell_type": "markdown",
   "id": "9ba52e9f-47c4-44d6-9b7e-dfc87f0ff1e8",
   "metadata": {},
   "source": [
    "Функция isinstance может также принимать кортеж типов и тогда проверяет, что тип переданного объекта присутствует в кортеже:"
   ]
  },
  {
   "cell_type": "code",
   "execution_count": 5,
   "id": "50afa061-c128-4863-b75f-98a03a39deb5",
   "metadata": {},
   "outputs": [
    {
     "data": {
      "text/plain": [
       "True"
      ]
     },
     "execution_count": 5,
     "metadata": {},
     "output_type": "execute_result"
    }
   ],
   "source": [
    "a = 5; b = 4.5\n",
    "isinstance(a, (int, float))"
   ]
  },
  {
   "cell_type": "code",
   "execution_count": 6,
   "id": "0bbd8137-dd2d-4cb8-9a87-02a3a6d09e32",
   "metadata": {},
   "outputs": [
    {
     "data": {
      "text/plain": [
       "True"
      ]
     },
     "execution_count": 6,
     "metadata": {},
     "output_type": "execute_result"
    }
   ],
   "source": [
    "isinstance(b, (int, float))"
   ]
  },
  {
   "cell_type": "markdown",
   "id": "164b6b1f-c5c9-4b04-b672-eb4f9d0c4428",
   "metadata": {},
   "source": [
    "*(стр. 55)* Для записи многострочных строк, содержащих разрывы, используются тройные кавычки:"
   ]
  },
  {
   "cell_type": "code",
   "execution_count": 7,
   "id": "19779551-c9ce-4321-84fd-dc52a6086f43",
   "metadata": {},
   "outputs": [],
   "source": [
    "c = \"\"\"\n",
    "Это длинная строка,\n",
    "занимающая несколько строчек\n",
    "\"\"\""
   ]
  },
  {
   "cell_type": "code",
   "execution_count": 8,
   "id": "6e9a871a-2687-4e5a-80f5-970d9822b02a",
   "metadata": {},
   "outputs": [
    {
     "name": "stdout",
     "output_type": "stream",
     "text": [
      "\n",
      "Это длинная строка,\n",
      "занимающая несколько строчек\n",
      "\n"
     ]
    }
   ],
   "source": [
    "print(c)"
   ]
  },
  {
   "cell_type": "markdown",
   "id": "0d01ac1e-7959-4224-986b-d787f0b7cf42",
   "metadata": {},
   "source": [
    "*(стр. 55)* Строки в Python неизменяемы, при любой модификации создается новая строка. Если нужно модифицировать строку, то следует использовать функцию или метод, создающие новую строку, например `replace`:"
   ]
  },
  {
   "cell_type": "code",
   "execution_count": 9,
   "id": "54e014b7-4f00-4911-9fc2-b05f44626e93",
   "metadata": {},
   "outputs": [
    {
     "data": {
      "text/plain": [
       "'this is a longer string'"
      ]
     },
     "execution_count": 9,
     "metadata": {},
     "output_type": "execute_result"
    }
   ],
   "source": [
    "a = \"this is a string\"\n",
    "b = a.replace(\"string\", \"longer string\")\n",
    "b"
   ]
  },
  {
   "cell_type": "markdown",
   "id": "e463b7f3-59fc-46f9-96c1-bd0bb088f950",
   "metadata": {},
   "source": [
    "*(стр. 59)* `None` также часто применяется в качестве значения по умолчанию для необязательных аргументов функции:"
   ]
  },
  {
   "cell_type": "code",
   "execution_count": null,
   "id": "de005617-fa1c-4ed6-b0a6-0134efdca740",
   "metadata": {},
   "outputs": [],
   "source": [
    "def add_and_maybe_multiply(a, b, c=None):\n",
    "    result = a + b\n",
    "    if c is not None:\n",
    "        result = result * c\n",
    "    return result"
   ]
  },
  {
   "cell_type": "markdown",
   "id": "c947b457-8375-4472-a278-9c2b472177f3",
   "metadata": {},
   "source": [
    "*(стр. 56)* Предложение `pass` Python является «пустышкой». Его можно использовать в тех блоках, где не требуется никакого действия; нужно оно только потому, что в Python ограничителем блока выступает пробел:"
   ]
  },
  {
   "cell_type": "code",
   "execution_count": null,
   "id": "03942281-5d93-4099-8c9f-171770137c69",
   "metadata": {},
   "outputs": [],
   "source": [
    "if x < 0:\n",
    "    print(\"отрицательно!\")\n",
    "    elif x == 0:\n",
    "    # Сделать тут что-нибудь разумное\n",
    "    pass\n",
    "else:\n",
    "    print(\"положительно!\")"
   ]
  },
  {
   "cell_type": "markdown",
   "id": "5301a479-f69a-4872-9c77-4aecd5e565bb",
   "metadata": {},
   "source": [
    "*(стр. 68)* Поскольку ни размер, ни содержимое кортежа нельзя модифицировать, методов экземпляра у него совсем немного. Пожалуй, наиболее полезен метод `count`(имеется также у списков), возвращающий количество вхождений значения:"
   ]
  },
  {
   "cell_type": "code",
   "execution_count": 3,
   "id": "d5d1f73f-f7fb-4e07-8d40-a57ef211e1a7",
   "metadata": {},
   "outputs": [
    {
     "data": {
      "text/plain": [
       "4"
      ]
     },
     "execution_count": 3,
     "metadata": {},
     "output_type": "execute_result"
    }
   ],
   "source": [
    "a = (1, 2, 2, 2, 3, 4, 2)\n",
    "a.count(2)"
   ]
  },
  {
   "cell_type": "markdown",
   "id": "d71f3f97-a29c-4b71-a494-eafd1437b697",
   "metadata": {},
   "source": [
    "*(стр. 69)* В отличие от кортежей, списки имеют переменную длину, а их содержимое можно модифицировать.\n",
    "\n",
    "Список определяется с помощью квадратных скобок [] **или конструктора типа `list`**:"
   ]
  },
  {
   "cell_type": "code",
   "execution_count": 11,
   "id": "0a579416-455d-4d55-b09a-a0a041c47ff5",
   "metadata": {},
   "outputs": [
    {
     "data": {
      "text/plain": [
       "['foo', 'bar', 'baz']"
      ]
     },
     "execution_count": 11,
     "metadata": {},
     "output_type": "execute_result"
    }
   ],
   "source": [
    "tup = (\"foo\", \"bar\", \"baz\")\n",
    "\n",
    "b_list = list(tup)   # C помощью list превратили кортеж в список\n",
    "b_list"
   ]
  },
  {
   "cell_type": "code",
   "execution_count": 12,
   "id": "61cb4adf-f02d-40f2-bf16-7f7227061ec4",
   "metadata": {},
   "outputs": [
    {
     "data": {
      "text/plain": [
       "['foo', 'peekaboo', 'baz']"
      ]
     },
     "execution_count": 12,
     "metadata": {},
     "output_type": "execute_result"
    }
   ],
   "source": [
    "b_list[1] = \"peekaboo\"\n",
    "b_list"
   ]
  },
  {
   "cell_type": "code",
   "execution_count": 10,
   "id": "59c3a5b6-476b-4bed-a805-8dcde3ceacce",
   "metadata": {},
   "outputs": [
    {
     "data": {
      "text/plain": [
       "['foo', 'peekaboo', 'baz', 'dwarf']"
      ]
     },
     "execution_count": 10,
     "metadata": {},
     "output_type": "execute_result"
    }
   ],
   "source": [
    "b_list.append(\"dwarf\")\n",
    "b_list"
   ]
  },
  {
   "cell_type": "code",
   "execution_count": null,
   "id": "621fd79b-6765-499c-9004-f0cf34b8b16d",
   "metadata": {},
   "outputs": [],
   "source": [
    "b_list.insert(1, \"red\")\n",
    "b_list"
   ]
  },
  {
   "cell_type": "code",
   "execution_count": null,
   "id": "a2ddad06-a132-4ad1-8d53-142d4150586b",
   "metadata": {},
   "outputs": [],
   "source": [
    "b_list.pop(2)\n",
    "b_list"
   ]
  },
  {
   "cell_type": "code",
   "execution_count": null,
   "id": "ba4329a2-faa8-4280-8e5e-e03a630df227",
   "metadata": {},
   "outputs": [],
   "source": [
    "b_list.append(\"foo\")\n",
    "b_list"
   ]
  },
  {
   "cell_type": "code",
   "execution_count": null,
   "id": "a5094018-99bb-4f87-b403-f5c18fc3ca7d",
   "metadata": {},
   "outputs": [],
   "source": [
    "b_list.remove(\"foo\")\n",
    "b_list"
   ]
  },
  {
   "cell_type": "code",
   "execution_count": null,
   "id": "020a51ba-ca33-407b-9b7f-6dfc201f6db2",
   "metadata": {},
   "outputs": [],
   "source": [
    "\"dwarf\" in b_list"
   ]
  },
  {
   "cell_type": "markdown",
   "id": "7e9a513d-59bf-47ac-b891-c40c373a7f24",
   "metadata": {},
   "source": [
    "`append` - добавление одного элемента в конец списка *(стр. 69)*\n",
    "\n",
    "`extend` - добавление нескольких элементов *(стр. 70)* -- элементы указываются в [ ]"
   ]
  },
  {
   "cell_type": "code",
   "execution_count": null,
   "id": "9116f78d-2ba9-4f77-a514-4b2aa766fde2",
   "metadata": {},
   "outputs": [],
   "source": [
    "b_list.extend([\"one\", \"two\"])\n",
    "b_list"
   ]
  },
  {
   "cell_type": "code",
   "execution_count": null,
   "id": "96dc4695-32f9-469f-858b-19b04fb07625",
   "metadata": {},
   "outputs": [],
   "source": [
    "everything = []\n",
    "for chunk in list_of_lists:\n",
    "    everything.extend(chunk)"
   ]
  }
 ],
 "metadata": {
  "kernelspec": {
   "display_name": "Python 3 (ipykernel)",
   "language": "python",
   "name": "python3"
  },
  "language_info": {
   "codemirror_mode": {
    "name": "ipython",
    "version": 3
   },
   "file_extension": ".py",
   "mimetype": "text/x-python",
   "name": "python",
   "nbconvert_exporter": "python",
   "pygments_lexer": "ipython3",
   "version": "3.12.7"
  }
 },
 "nbformat": 4,
 "nbformat_minor": 5
}
